{
 "cells": [
  {
   "cell_type": "code",
   "execution_count": 1,
   "id": "747b8e93",
   "metadata": {},
   "outputs": [
    {
     "name": "stdout",
     "output_type": "stream",
     "text": [
      "Requirement already satisfied: requests in /opt/anaconda3/lib/python3.13/site-packages (2.32.3)\n",
      "Requirement already satisfied: beautifulsoup4 in /opt/anaconda3/lib/python3.13/site-packages (4.12.3)\n",
      "Requirement already satisfied: pandas in /opt/anaconda3/lib/python3.13/site-packages (2.2.3)\n",
      "Requirement already satisfied: charset-normalizer<4,>=2 in /opt/anaconda3/lib/python3.13/site-packages (from requests) (3.3.2)\n",
      "Requirement already satisfied: idna<4,>=2.5 in /opt/anaconda3/lib/python3.13/site-packages (from requests) (3.7)\n",
      "Requirement already satisfied: urllib3<3,>=1.21.1 in /opt/anaconda3/lib/python3.13/site-packages (from requests) (2.5.0)\n",
      "Requirement already satisfied: certifi>=2017.4.17 in /opt/anaconda3/lib/python3.13/site-packages (from requests) (2025.6.15)\n",
      "Requirement already satisfied: soupsieve>1.2 in /opt/anaconda3/lib/python3.13/site-packages (from beautifulsoup4) (2.5)\n",
      "Requirement already satisfied: numpy>=1.26.0 in /opt/anaconda3/lib/python3.13/site-packages (from pandas) (2.1.3)\n",
      "Requirement already satisfied: python-dateutil>=2.8.2 in /opt/anaconda3/lib/python3.13/site-packages (from pandas) (2.9.0.post0)\n",
      "Requirement already satisfied: pytz>=2020.1 in /opt/anaconda3/lib/python3.13/site-packages (from pandas) (2024.1)\n",
      "Requirement already satisfied: tzdata>=2022.7 in /opt/anaconda3/lib/python3.13/site-packages (from pandas) (2025.2)\n",
      "Requirement already satisfied: six>=1.5 in /opt/anaconda3/lib/python3.13/site-packages (from python-dateutil>=2.8.2->pandas) (1.17.0)\n",
      "Note: you may need to restart the kernel to use updated packages.\n"
     ]
    }
   ],
   "source": [
    "%pip install requests beautifulsoup4 pandas\n"
   ]
  },
  {
   "cell_type": "code",
   "execution_count": 2,
   "id": "8d5d9a47",
   "metadata": {},
   "outputs": [],
   "source": [
    "import time, random, csv\n",
    "from typing import List, Dict, Optional\n",
    "from urllib.parse import urljoin\n",
    "import requests\n",
    "from bs4 import BeautifulSoup\n",
    "import pandas as pd\n",
    "\n",
    "BASE_THREAD_URL = \"https://forums.edmunds.com/discussion/2864/general/x/entry-level-luxury-performance-sedans\"\n",
    "HEADERS = {\"User-Agent\": \"Mozilla/5.0 (X11; Linux x86_64) AppleWebKit/537.36 (KHTML, like Gecko) Chrome/124.0 Safari/537.36 (edu-demo)\"}\n",
    "\n",
    "def page_url(page: int) -> str:\n",
    "    return BASE_THREAD_URL if page <= 1 else f\"{BASE_THREAD_URL}/p{page}\"\n"
   ]
  },
  {
   "cell_type": "code",
   "execution_count": 3,
   "id": "bc599ad1",
   "metadata": {},
   "outputs": [
    {
     "name": "stdout",
     "output_type": "stream",
     "text": [
      "200 https://forums.edmunds.com/discussion/2864/general/x/entry-level-luxury-performance-sedans\n"
     ]
    },
    {
     "data": {
      "text/plain": [
       "'<!DOCTYPE html>\\n<html lang=\"en\">\\n\\n<head>\\n    <meta charset=\"utf-8\">\\n    <meta http-equiv=\"X-UA-Compatible\" content=\"IE=edge\">\\n    <meta name=\"viewport\" content=\"width=device-width, initial-scale=1\">\\n    <style type=\"text/css\">@font-face {font-family:Open Sans;font-style:normal;font-weight:400;src:url(/cf-fonts/s/open-sans/5.0.20/latin/400/normal.woff2);unicode-range:U+0000-00FF,U+0131,U+0152-0153,U+02BB-02BC,U+02C6,U+02DA,U+02DC,U+0304,U+0308,U+0329,U+2000-206F,U+2074,U+20AC,U+2122,U+2191,U+2193,U+2212,U+2215,U+FEFF,U+FFFD;font-display:swap;}@font-face {font-family:Open Sans;font-style:normal;font-weight:400;src:url(/cf-fonts/s/open-sans/5.0.20/vietnamese/400/normal.woff2);unicode-range:U+0102-0103,U+0110-0111,U+0128-0129,U+0168-0169,U+01A0-01A1,U+01AF-01B0,U+0300-0301,U+0303-0304,U+0308-0309,U+0323,U+0329,U+1EA0-1EF9,U+20AB;font-display:swap;}@font-face {font-family:Open Sans;font-style:normal;font-weight:400;src:url(/cf-fonts/s/open-sans/5.0.20/hebrew/400/normal.woff2);unicode-range:U+0590-05FF,U+200C-2010,U+20AA,U+25CC,U+FB1D-FB4F;font-display:swap;}@font-face {font-family:Open Sans;font-style:normal;font-weight:400;src:url(/cf-fonts/s/open-sans/5.0.20/greek-ext/400/normal.woff2);unicode-range:U+1F00-1FFF;font-display:swap;}@font-face {font-family:Open Sans;font-style:normal;font-weight:400;src:url(/cf-fonts/s/open-sans/5.0.20/cyrillic/400/normal.woff2);unicode-range:U+0301,U+0400-045F,U+0490-0491,U+04B0-04B1,U+2116;font-display:swap;}@font-face {font-family:Open Sans;font'"
      ]
     },
     "execution_count": 3,
     "metadata": {},
     "output_type": "execute_result"
    }
   ],
   "source": [
    "session = requests.Session()\n",
    "session.headers.update(HEADERS)\n",
    "\n",
    "test_page = 1  # try 1, or 300/400+ to see recent pages\n",
    "url = page_url(test_page)\n",
    "resp = session.get(url, timeout=30)\n",
    "print(resp.status_code, url)\n",
    "html = resp.text\n",
    "html[:1500]  # preview\n"
   ]
  },
  {
   "cell_type": "code",
   "execution_count": 4,
   "id": "4caf436c",
   "metadata": {},
   "outputs": [
    {
     "data": {
      "text/plain": [
       "(100,\n",
       " [{'userid': 'merc1',\n",
       "   'date': '2002-03-25T05:54:02+00:00',\n",
       "   'message': 'I personally think that with a few tweaks the C320 could also sit at the top of this group.  It\\'s still more of a entry-level luxury sedan than Mercedes would lead you to believe.   The C320 \"Sport\" needs to have it\\'s suspension retuned to accept 17 inch tires without a harsh ride.  MB also needs to stop forcing metal trim and black leather on everyone that wants the sport package.  The C240\\'s 6-speed wouldn\\'t hurt either if offered on the C320, though it needs to be \"fixed\" first. That said, my favorite of the group is (gasp!) the new A4 3.0.   The A4 easily has the best interior of any sub-40K car, combine that with stunning looks and a body that is as rigid as any ever made and you have my personal favorite.   The single thing I don\\'t like about the A4 is the grey trim around the bottom of the car.  This trim doesn\\'t match any of the body colors, as it should be body color anyway.   This is an excellent car and in my opinion the best there is under 40K.  The upcoming A4 Convertible, Coupe and S4 WILL all be winners. The BMW 330i is now an old favorite, but I\\'m (of all people) starting to tire of the 3-Series just a bit, save the M3 variants.   I was kind of dissappointed by the 2002 facelift, they could have done a little more in the way of styling.  I hope they do a little more for 2003 with the coupe models. The Acura TL-S is easily my favorite fwd car in this class.  Wonderful engine (you actually can hear it) and decent handling for a front driver.  Nice price, seats and what not, not hard to see why the TL is so popular.  This car\\'s main faults are styling and obvious cost-cutting in the interior, stereo, fake wood etc.  Otherwise a standout. Lexus ES300.  Nice, but not my type of car at all.  This is one for the Buick set.  The IS300 is half baked, but has a wonderful chassis.  Styling is also in question here, it simply doesn\\'t look like a 35K car (grown).  The interior is gawd-awful.  Bet on the next IS300 being done right from the start.  In their defense Toyota didn\\'t initially intend for this car to be sold in the U.S. so it was a rush job. The CTS holds the greatest unrealized potential here.  I\\'ve seen several now, and each time I see one they look better and better.  Again like the C320, IS300 the car has interior issues.  The dash feels like it was made by Rubbermaid.  If you\\'re going to be stingy with wood trim, why bother?  Half of the steering wheel in wood, and very little anywhere else in the car???  The seats are very good though, as is the handling.  A work in progress. The G35 looks like it may have a winning chassis, but the interior, though clean looking seems to be styled about 10 years ago, lots of square shapes and flat surfaces.  Another great engine, waiting to drive this one. Don\\'t really care much for the X-Type.  If I were a Jaguar man I\\'d be truly pissed at Ford and Jaguar for this one.  They are actually selling a fwd X-Type in England and I\\'ve read where they\\'re thinking about selling it here!  Hell no.  The car should have been rwd not awd.  Some will tell you that this was done to compete with Audi.  Thats BS, awd was the only way to keep the car from being fwd, WITHOUT spending the money to convert the car to rwd.  It is a good looking car though and that Jaguar \"leaper\" will be enough for some, but this car has to grow on me. The Chrysler 300M is about as close to an Audi that American cars come.  This new 300M \"Special\" is truly a good looking car inside and out.  One problem: Where is the performance????  A 255hp car *in this class) with a 0-60 time over 8 seconds is not accpetable.  Something is not right here.  Some say engine, transmission and/or gearing, but whatever it is, Chrysler needs to let some MB engineers have a look at this car.  The heavier E320 with less power is faster.   I still like this car, but it\\'s no lust object once you get past the great styling. M',\n",
       "   'comment_id': '',\n",
       "   'permalink': 'https://forums.edmunds.com/discussion/comment/1726631/#Comment_1726631',\n",
       "   'page': 1},\n",
       "  {'userid': 'fredvh',\n",
       "   'date': '2002-03-25T07:06:29+00:00',\n",
       "   'message': \"I am debating a new purchase and these two are at the top of my list. The price difference between these two is approx. 6K (non-Type S Acura). Is the ES300 worth 6K over the TL? I don't know because I have never owned a TL but I am familiar with the ES300(previous generation). Supposedly the 2002 ES300 is a lot better than the previous generation but is it that much better than the TL? Of great importance to me is initial quality and overall dependability. Does the TL compare with the ES300 in both of these categorys? I am not familiar with the Honda Co. Are prices lower than Lexus for service work? I would appreciate any input on this dilemma from some TL owners.\",\n",
       "   'comment_id': '',\n",
       "   'permalink': 'https://forums.edmunds.com/discussion/comment/1735583/#Comment_1735583',\n",
       "   'page': 1}])"
      ]
     },
     "execution_count": 4,
     "metadata": {},
     "output_type": "execute_result"
    }
   ],
   "source": [
    "def gettext(el) -> str:\n",
    "    if not el: return \"\"\n",
    "    return el.get_text(\" \", strip=True)\n",
    "\n",
    "def parse_page(html: str, current_page: int) -> List[Dict]:\n",
    "    soup = BeautifulSoup(html, \"html.parser\")\n",
    "    rows = []\n",
    "    candidates = []\n",
    "    candidates.extend(soup.select(\"li.Comment\"))\n",
    "    candidates.extend(soup.select(\"div.Comment\"))\n",
    "    candidates.extend(soup.select(\"article.Comment\"))\n",
    "    candidates.extend([el for el in soup.find_all(id=True) if str(el.get(\"id\",\"\")).startswith(\"Comment_\")])\n",
    "\n",
    "    seen = set()\n",
    "    for item in candidates:\n",
    "        cid = item.get(\"id\") or \"\"\n",
    "        if cid and cid in seen: \n",
    "            continue\n",
    "\n",
    "        user_el = item.select_one(\".Username\") or item.select_one(\"a.Username\") or item.select_one(\"a[href*='/profile/']\")\n",
    "        userid = gettext(user_el)\n",
    "\n",
    "        time_el = item.select_one(\"a.Permalink time\") or item.select_one(\"time\") or item.select_one(\"a.Permalink\")\n",
    "        date_text = time_el.get(\"datetime\") if time_el and time_el.get(\"datetime\") else (gettext(time_el) if time_el else \"\")\n",
    "\n",
    "        perma_a = item.select_one(\"a.Permalink\") or item.find(\"a\", attrs={\"class\": lambda c: c and \"Permalink\" in c})\n",
    "        permalink = \"\"\n",
    "        if perma_a and perma_a.get(\"href\"):\n",
    "            href = perma_a[\"href\"]\n",
    "            permalink = href if href.startswith(\"http\") else urljoin(BASE_THREAD_URL, href)\n",
    "\n",
    "        msg_el = item.select_one(\".Message\") or item.select_one(\".message\") or item.select_one(\".UserContent\") or item\n",
    "        message = gettext(msg_el)\n",
    "\n",
    "        if userid and message:\n",
    "            rows.append({\"userid\": userid, \"date\": date_text, \"message\": message,\n",
    "                         \"comment_id\": cid, \"permalink\": permalink, \"page\": current_page})\n",
    "            if cid: seen.add(cid)\n",
    "    return rows\n",
    "\n",
    "sample = parse_page(html, test_page)\n",
    "len(sample), sample[:2]  # quick peek\n"
   ]
  },
  {
   "cell_type": "code",
   "execution_count": 5,
   "id": "b68c1729",
   "metadata": {},
   "outputs": [],
   "source": [
    "def scrape(max_posts: int = 10000, out_csv: str = \"edmunds_posts.csv\",\n",
    "           min_sleep: float = 1.0, max_sleep: float = 2.0,\n",
    "           start_page: int = 1, max_pages: Optional[int] = None) -> int:\n",
    "    count = 0\n",
    "    page = start_page\n",
    "    with open(out_csv, \"w\", newline=\"\", encoding=\"utf-8\") as f:\n",
    "        writer = csv.DictWriter(f, fieldnames=[\"userid\",\"date\",\"message\",\"comment_id\",\"permalink\",\"page\"])\n",
    "        writer.writeheader()\n",
    "        while True:\n",
    "            if max_pages is not None and (page - start_page + 1) > max_pages:\n",
    "                break\n",
    "            url = page_url(page)\n",
    "            print(f\"[INFO] Fetching page {page}: {url}\")\n",
    "            try:\n",
    "                r = session.get(url, timeout=30)\n",
    "            except Exception as e:\n",
    "                print(f\"[WARN] Request error on page {page}: {e}\")\n",
    "                time.sleep(5); page += 1; continue\n",
    "            if r.status_code != 200:\n",
    "                print(f\"[WARN] HTTP {r.status_code} on page {page}\")\n",
    "                if r.status_code in (403, 429, 503):\n",
    "                    time.sleep(10); continue\n",
    "                page += 1; continue\n",
    "            rows = parse_page(r.text, page)\n",
    "            if not rows:\n",
    "                print(f\"[INFO] No rows parsed on page {page}. Stopping.\")\n",
    "                break\n",
    "            for row in rows:\n",
    "                writer.writerow(row)\n",
    "                count += 1\n",
    "                if count >= max_posts:\n",
    "                    print(f\"[DONE] Reached target {max_posts} posts.\")\n",
    "                    return count\n",
    "            page += 1\n",
    "            time.sleep(random.uniform(min_sleep, max_sleep))\n",
    "    print(f\"[DONE] Wrote {count} rows to {out_csv}\")\n",
    "    return count\n"
   ]
  },
  {
   "cell_type": "code",
   "execution_count": 6,
   "id": "3d99858a",
   "metadata": {},
   "outputs": [
    {
     "name": "stdout",
     "output_type": "stream",
     "text": [
      "[INFO] Fetching page 1: https://forums.edmunds.com/discussion/2864/general/x/entry-level-luxury-performance-sedans\n",
      "[INFO] Fetching page 2: https://forums.edmunds.com/discussion/2864/general/x/entry-level-luxury-performance-sedans/p2\n",
      "[INFO] Fetching page 3: https://forums.edmunds.com/discussion/2864/general/x/entry-level-luxury-performance-sedans/p3\n",
      "[DONE] Reached target 300 posts.\n"
     ]
    },
    {
     "data": {
      "text/plain": [
       "300"
      ]
     },
     "execution_count": 6,
     "metadata": {},
     "output_type": "execute_result"
    }
   ],
   "source": [
    "written = scrape(max_posts=300, out_csv=\"edmunds_posts_sample.csv\", start_page=1, max_pages=10)\n",
    "written\n"
   ]
  },
  {
   "cell_type": "code",
   "execution_count": 7,
   "id": "d57f6261",
   "metadata": {},
   "outputs": [
    {
     "data": {
      "text/plain": [
       "(          userid                       date  \\\n",
       " 0          merc1  2002-03-25T05:54:02+00:00   \n",
       " 1         fredvh  2002-03-25T07:06:29+00:00   \n",
       " 2  blueguydotcom  2002-03-25T17:02:27+00:00   \n",
       " 3    hungrywhale  2002-03-25T23:04:37+00:00   \n",
       " 4           riez  2002-03-26T00:44:13+00:00   \n",
       " 5  blueguydotcom  2002-03-26T20:20:10+00:00   \n",
       " 6    hungrywhale  2002-03-26T21:02:10+00:00   \n",
       " 7  blueguydotcom  2002-03-26T21:45:33+00:00   \n",
       " 8    hungrywhale  2002-03-27T00:00:02+00:00   \n",
       " 9           riez  2002-03-27T02:00:56+00:00   \n",
       " \n",
       "                                              message  \n",
       " 0  I personally think that with a few tweaks the ...  \n",
       " 1  I am debating a new purchase and these two are...  \n",
       " 2  Great handling, RWD, excellent engine and the ...  \n",
       " 3  And no manual tranny.  That may not matter to ...  \n",
       " 4  One beauty of BMW 3 Series is that there are s...  \n",
       " 5  good grief, so you wait 9 months for the manua...  \n",
       " 6  I'll give it a fair shot when the manual comes...  \n",
       " 7  I understand it's not about the speed.  I real...  \n",
       " 8  It sounds like you know why I won't even put i...  \n",
       " 9  Is there such a thing as an automatic-only tru...  ,\n",
       " (300, 3))"
      ]
     },
     "execution_count": 7,
     "metadata": {},
     "output_type": "execute_result"
    }
   ],
   "source": [
    "df = pd.read_csv(\"edmunds_posts_sample.csv\")\n",
    "final = df[[\"userid\",\"date\",\"message\"]].copy()\n",
    "final.to_csv(\"edmunds_posts_final.csv\", index=False)\n",
    "final.head(10), final.shape\n"
   ]
  },
  {
   "cell_type": "code",
   "execution_count": 8,
   "id": "b5c392ae",
   "metadata": {},
   "outputs": [
    {
     "name": "stdout",
     "output_type": "stream",
     "text": [
      "[INFO] Fetching page 1: https://forums.edmunds.com/discussion/2864/general/x/entry-level-luxury-performance-sedans\n",
      "[INFO] Fetching page 2: https://forums.edmunds.com/discussion/2864/general/x/entry-level-luxury-performance-sedans/p2\n",
      "[INFO] Fetching page 3: https://forums.edmunds.com/discussion/2864/general/x/entry-level-luxury-performance-sedans/p3\n",
      "[INFO] Fetching page 4: https://forums.edmunds.com/discussion/2864/general/x/entry-level-luxury-performance-sedans/p4\n",
      "[INFO] Fetching page 5: https://forums.edmunds.com/discussion/2864/general/x/entry-level-luxury-performance-sedans/p5\n",
      "[INFO] Fetching page 6: https://forums.edmunds.com/discussion/2864/general/x/entry-level-luxury-performance-sedans/p6\n",
      "[INFO] Fetching page 7: https://forums.edmunds.com/discussion/2864/general/x/entry-level-luxury-performance-sedans/p7\n",
      "[INFO] Fetching page 8: https://forums.edmunds.com/discussion/2864/general/x/entry-level-luxury-performance-sedans/p8\n",
      "[INFO] Fetching page 9: https://forums.edmunds.com/discussion/2864/general/x/entry-level-luxury-performance-sedans/p9\n",
      "[INFO] Fetching page 10: https://forums.edmunds.com/discussion/2864/general/x/entry-level-luxury-performance-sedans/p10\n",
      "[INFO] Fetching page 11: https://forums.edmunds.com/discussion/2864/general/x/entry-level-luxury-performance-sedans/p11\n",
      "[INFO] Fetching page 12: https://forums.edmunds.com/discussion/2864/general/x/entry-level-luxury-performance-sedans/p12\n",
      "[INFO] Fetching page 13: https://forums.edmunds.com/discussion/2864/general/x/entry-level-luxury-performance-sedans/p13\n",
      "[INFO] Fetching page 14: https://forums.edmunds.com/discussion/2864/general/x/entry-level-luxury-performance-sedans/p14\n",
      "[INFO] Fetching page 15: https://forums.edmunds.com/discussion/2864/general/x/entry-level-luxury-performance-sedans/p15\n",
      "[INFO] Fetching page 16: https://forums.edmunds.com/discussion/2864/general/x/entry-level-luxury-performance-sedans/p16\n",
      "[INFO] Fetching page 17: https://forums.edmunds.com/discussion/2864/general/x/entry-level-luxury-performance-sedans/p17\n",
      "[INFO] Fetching page 18: https://forums.edmunds.com/discussion/2864/general/x/entry-level-luxury-performance-sedans/p18\n",
      "[INFO] Fetching page 19: https://forums.edmunds.com/discussion/2864/general/x/entry-level-luxury-performance-sedans/p19\n",
      "[INFO] Fetching page 20: https://forums.edmunds.com/discussion/2864/general/x/entry-level-luxury-performance-sedans/p20\n",
      "[INFO] Fetching page 21: https://forums.edmunds.com/discussion/2864/general/x/entry-level-luxury-performance-sedans/p21\n",
      "[INFO] Fetching page 22: https://forums.edmunds.com/discussion/2864/general/x/entry-level-luxury-performance-sedans/p22\n",
      "[INFO] Fetching page 23: https://forums.edmunds.com/discussion/2864/general/x/entry-level-luxury-performance-sedans/p23\n",
      "[INFO] Fetching page 24: https://forums.edmunds.com/discussion/2864/general/x/entry-level-luxury-performance-sedans/p24\n",
      "[INFO] Fetching page 25: https://forums.edmunds.com/discussion/2864/general/x/entry-level-luxury-performance-sedans/p25\n",
      "[INFO] Fetching page 26: https://forums.edmunds.com/discussion/2864/general/x/entry-level-luxury-performance-sedans/p26\n",
      "[INFO] Fetching page 27: https://forums.edmunds.com/discussion/2864/general/x/entry-level-luxury-performance-sedans/p27\n",
      "[INFO] Fetching page 28: https://forums.edmunds.com/discussion/2864/general/x/entry-level-luxury-performance-sedans/p28\n",
      "[INFO] Fetching page 29: https://forums.edmunds.com/discussion/2864/general/x/entry-level-luxury-performance-sedans/p29\n",
      "[INFO] Fetching page 30: https://forums.edmunds.com/discussion/2864/general/x/entry-level-luxury-performance-sedans/p30\n",
      "[INFO] Fetching page 31: https://forums.edmunds.com/discussion/2864/general/x/entry-level-luxury-performance-sedans/p31\n",
      "[INFO] Fetching page 32: https://forums.edmunds.com/discussion/2864/general/x/entry-level-luxury-performance-sedans/p32\n",
      "[INFO] Fetching page 33: https://forums.edmunds.com/discussion/2864/general/x/entry-level-luxury-performance-sedans/p33\n",
      "[INFO] Fetching page 34: https://forums.edmunds.com/discussion/2864/general/x/entry-level-luxury-performance-sedans/p34\n",
      "[INFO] Fetching page 35: https://forums.edmunds.com/discussion/2864/general/x/entry-level-luxury-performance-sedans/p35\n",
      "[INFO] Fetching page 36: https://forums.edmunds.com/discussion/2864/general/x/entry-level-luxury-performance-sedans/p36\n",
      "[INFO] Fetching page 37: https://forums.edmunds.com/discussion/2864/general/x/entry-level-luxury-performance-sedans/p37\n",
      "[INFO] Fetching page 38: https://forums.edmunds.com/discussion/2864/general/x/entry-level-luxury-performance-sedans/p38\n",
      "[INFO] Fetching page 39: https://forums.edmunds.com/discussion/2864/general/x/entry-level-luxury-performance-sedans/p39\n",
      "[INFO] Fetching page 40: https://forums.edmunds.com/discussion/2864/general/x/entry-level-luxury-performance-sedans/p40\n",
      "[INFO] Fetching page 41: https://forums.edmunds.com/discussion/2864/general/x/entry-level-luxury-performance-sedans/p41\n",
      "[INFO] Fetching page 42: https://forums.edmunds.com/discussion/2864/general/x/entry-level-luxury-performance-sedans/p42\n",
      "[INFO] Fetching page 43: https://forums.edmunds.com/discussion/2864/general/x/entry-level-luxury-performance-sedans/p43\n",
      "[INFO] Fetching page 44: https://forums.edmunds.com/discussion/2864/general/x/entry-level-luxury-performance-sedans/p44\n",
      "[INFO] Fetching page 45: https://forums.edmunds.com/discussion/2864/general/x/entry-level-luxury-performance-sedans/p45\n",
      "[INFO] Fetching page 46: https://forums.edmunds.com/discussion/2864/general/x/entry-level-luxury-performance-sedans/p46\n",
      "[INFO] Fetching page 47: https://forums.edmunds.com/discussion/2864/general/x/entry-level-luxury-performance-sedans/p47\n",
      "[INFO] Fetching page 48: https://forums.edmunds.com/discussion/2864/general/x/entry-level-luxury-performance-sedans/p48\n",
      "[INFO] Fetching page 49: https://forums.edmunds.com/discussion/2864/general/x/entry-level-luxury-performance-sedans/p49\n",
      "[INFO] Fetching page 50: https://forums.edmunds.com/discussion/2864/general/x/entry-level-luxury-performance-sedans/p50\n",
      "[INFO] Fetching page 51: https://forums.edmunds.com/discussion/2864/general/x/entry-level-luxury-performance-sedans/p51\n",
      "[INFO] Fetching page 52: https://forums.edmunds.com/discussion/2864/general/x/entry-level-luxury-performance-sedans/p52\n",
      "[INFO] Fetching page 53: https://forums.edmunds.com/discussion/2864/general/x/entry-level-luxury-performance-sedans/p53\n",
      "[INFO] Fetching page 54: https://forums.edmunds.com/discussion/2864/general/x/entry-level-luxury-performance-sedans/p54\n",
      "[INFO] Fetching page 55: https://forums.edmunds.com/discussion/2864/general/x/entry-level-luxury-performance-sedans/p55\n",
      "[INFO] Fetching page 56: https://forums.edmunds.com/discussion/2864/general/x/entry-level-luxury-performance-sedans/p56\n",
      "[INFO] Fetching page 57: https://forums.edmunds.com/discussion/2864/general/x/entry-level-luxury-performance-sedans/p57\n",
      "[INFO] Fetching page 58: https://forums.edmunds.com/discussion/2864/general/x/entry-level-luxury-performance-sedans/p58\n",
      "[INFO] Fetching page 59: https://forums.edmunds.com/discussion/2864/general/x/entry-level-luxury-performance-sedans/p59\n",
      "[INFO] Fetching page 60: https://forums.edmunds.com/discussion/2864/general/x/entry-level-luxury-performance-sedans/p60\n",
      "[INFO] Fetching page 61: https://forums.edmunds.com/discussion/2864/general/x/entry-level-luxury-performance-sedans/p61\n",
      "[INFO] Fetching page 62: https://forums.edmunds.com/discussion/2864/general/x/entry-level-luxury-performance-sedans/p62\n",
      "[INFO] Fetching page 63: https://forums.edmunds.com/discussion/2864/general/x/entry-level-luxury-performance-sedans/p63\n",
      "[INFO] Fetching page 64: https://forums.edmunds.com/discussion/2864/general/x/entry-level-luxury-performance-sedans/p64\n",
      "[INFO] Fetching page 65: https://forums.edmunds.com/discussion/2864/general/x/entry-level-luxury-performance-sedans/p65\n",
      "[INFO] Fetching page 66: https://forums.edmunds.com/discussion/2864/general/x/entry-level-luxury-performance-sedans/p66\n",
      "[INFO] Fetching page 67: https://forums.edmunds.com/discussion/2864/general/x/entry-level-luxury-performance-sedans/p67\n",
      "[INFO] Fetching page 68: https://forums.edmunds.com/discussion/2864/general/x/entry-level-luxury-performance-sedans/p68\n",
      "[INFO] Fetching page 69: https://forums.edmunds.com/discussion/2864/general/x/entry-level-luxury-performance-sedans/p69\n",
      "[INFO] Fetching page 70: https://forums.edmunds.com/discussion/2864/general/x/entry-level-luxury-performance-sedans/p70\n",
      "[INFO] Fetching page 71: https://forums.edmunds.com/discussion/2864/general/x/entry-level-luxury-performance-sedans/p71\n",
      "[INFO] Fetching page 72: https://forums.edmunds.com/discussion/2864/general/x/entry-level-luxury-performance-sedans/p72\n",
      "[INFO] Fetching page 73: https://forums.edmunds.com/discussion/2864/general/x/entry-level-luxury-performance-sedans/p73\n",
      "[INFO] Fetching page 74: https://forums.edmunds.com/discussion/2864/general/x/entry-level-luxury-performance-sedans/p74\n",
      "[INFO] Fetching page 75: https://forums.edmunds.com/discussion/2864/general/x/entry-level-luxury-performance-sedans/p75\n",
      "[INFO] Fetching page 76: https://forums.edmunds.com/discussion/2864/general/x/entry-level-luxury-performance-sedans/p76\n",
      "[INFO] Fetching page 77: https://forums.edmunds.com/discussion/2864/general/x/entry-level-luxury-performance-sedans/p77\n",
      "[INFO] Fetching page 78: https://forums.edmunds.com/discussion/2864/general/x/entry-level-luxury-performance-sedans/p78\n",
      "[INFO] Fetching page 79: https://forums.edmunds.com/discussion/2864/general/x/entry-level-luxury-performance-sedans/p79\n",
      "[INFO] Fetching page 80: https://forums.edmunds.com/discussion/2864/general/x/entry-level-luxury-performance-sedans/p80\n",
      "[INFO] Fetching page 81: https://forums.edmunds.com/discussion/2864/general/x/entry-level-luxury-performance-sedans/p81\n",
      "[INFO] Fetching page 82: https://forums.edmunds.com/discussion/2864/general/x/entry-level-luxury-performance-sedans/p82\n",
      "[INFO] Fetching page 83: https://forums.edmunds.com/discussion/2864/general/x/entry-level-luxury-performance-sedans/p83\n",
      "[INFO] Fetching page 84: https://forums.edmunds.com/discussion/2864/general/x/entry-level-luxury-performance-sedans/p84\n",
      "[INFO] Fetching page 85: https://forums.edmunds.com/discussion/2864/general/x/entry-level-luxury-performance-sedans/p85\n",
      "[INFO] Fetching page 86: https://forums.edmunds.com/discussion/2864/general/x/entry-level-luxury-performance-sedans/p86\n",
      "[INFO] Fetching page 87: https://forums.edmunds.com/discussion/2864/general/x/entry-level-luxury-performance-sedans/p87\n",
      "[INFO] Fetching page 88: https://forums.edmunds.com/discussion/2864/general/x/entry-level-luxury-performance-sedans/p88\n",
      "[INFO] Fetching page 89: https://forums.edmunds.com/discussion/2864/general/x/entry-level-luxury-performance-sedans/p89\n",
      "[INFO] Fetching page 90: https://forums.edmunds.com/discussion/2864/general/x/entry-level-luxury-performance-sedans/p90\n",
      "[INFO] Fetching page 91: https://forums.edmunds.com/discussion/2864/general/x/entry-level-luxury-performance-sedans/p91\n",
      "[INFO] Fetching page 92: https://forums.edmunds.com/discussion/2864/general/x/entry-level-luxury-performance-sedans/p92\n",
      "[INFO] Fetching page 93: https://forums.edmunds.com/discussion/2864/general/x/entry-level-luxury-performance-sedans/p93\n",
      "[INFO] Fetching page 94: https://forums.edmunds.com/discussion/2864/general/x/entry-level-luxury-performance-sedans/p94\n",
      "[INFO] Fetching page 95: https://forums.edmunds.com/discussion/2864/general/x/entry-level-luxury-performance-sedans/p95\n",
      "[INFO] Fetching page 96: https://forums.edmunds.com/discussion/2864/general/x/entry-level-luxury-performance-sedans/p96\n",
      "[INFO] Fetching page 97: https://forums.edmunds.com/discussion/2864/general/x/entry-level-luxury-performance-sedans/p97\n",
      "[INFO] Fetching page 98: https://forums.edmunds.com/discussion/2864/general/x/entry-level-luxury-performance-sedans/p98\n",
      "[INFO] Fetching page 99: https://forums.edmunds.com/discussion/2864/general/x/entry-level-luxury-performance-sedans/p99\n",
      "[INFO] Fetching page 100: https://forums.edmunds.com/discussion/2864/general/x/entry-level-luxury-performance-sedans/p100\n",
      "[INFO] Fetching page 101: https://forums.edmunds.com/discussion/2864/general/x/entry-level-luxury-performance-sedans/p101\n",
      "[DONE] Reached target 10000 posts.\n"
     ]
    }
   ],
   "source": [
    "scrape(max_posts=10000, out_csv=\"edmunds_posts_10k_full.csv\", start_page=1, max_pages=300)\n",
    "pd.read_csv(\"edmunds_posts_10k_full.csv\")[[\"userid\",\"date\",\"message\"]].to_csv(\"edmunds_posts_10k.csv\", index=False)\n"
   ]
  }
 ],
 "metadata": {
  "kernelspec": {
   "display_name": "base",
   "language": "python",
   "name": "python3"
  },
  "language_info": {
   "codemirror_mode": {
    "name": "ipython",
    "version": 3
   },
   "file_extension": ".py",
   "mimetype": "text/x-python",
   "name": "python",
   "nbconvert_exporter": "python",
   "pygments_lexer": "ipython3",
   "version": "3.13.5"
  }
 },
 "nbformat": 4,
 "nbformat_minor": 5
}
